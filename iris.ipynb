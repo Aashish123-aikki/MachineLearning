{
  "nbformat": 4,
  "nbformat_minor": 0,
  "metadata": {
    "colab": {
      "provenance": [],
      "authorship_tag": "ABX9TyMeRfuAVV6mNDHuChCXDRsc",
      "include_colab_link": true
    },
    "kernelspec": {
      "name": "python3",
      "display_name": "Python 3"
    },
    "language_info": {
      "name": "python"
    }
  },
  "cells": [
    {
      "cell_type": "markdown",
      "metadata": {
        "id": "view-in-github",
        "colab_type": "text"
      },
      "source": [
        "<a href=\"https://colab.research.google.com/github/Aashish123-aikki/MachineLearning/blob/main/iris.ipynb\" target=\"_parent\"><img src=\"https://colab.research.google.com/assets/colab-badge.svg\" alt=\"Open In Colab\"/></a>"
      ]
    },
    {
      "cell_type": "code",
      "execution_count": 3,
      "metadata": {
        "id": "2Q8KVYZHbsYW"
      },
      "outputs": [],
      "source": [
        "from sklearn.datasets import load_iris\n",
        "from sklearn import linear_model\n",
        "from matplotlib import pyplot as pl"
      ]
    },
    {
      "cell_type": "code",
      "source": [
        "iris=load_iris()"
      ],
      "metadata": {
        "id": "kUG9cvRdb6Kf"
      },
      "execution_count": 4,
      "outputs": []
    },
    {
      "cell_type": "code",
      "source": [
        "dir(iris)"
      ],
      "metadata": {
        "colab": {
          "base_uri": "https://localhost:8080/"
        },
        "id": "V8Avx3GzdoVv",
        "outputId": "b5483fc1-ec81-4268-fdd8-047288045d8b"
      },
      "execution_count": 5,
      "outputs": [
        {
          "output_type": "execute_result",
          "data": {
            "text/plain": [
              "['DESCR',\n",
              " 'data',\n",
              " 'data_module',\n",
              " 'feature_names',\n",
              " 'filename',\n",
              " 'frame',\n",
              " 'target',\n",
              " 'target_names']"
            ]
          },
          "metadata": {},
          "execution_count": 5
        }
      ]
    },
    {
      "cell_type": "code",
      "source": [
        "iris.target_names[0:]"
      ],
      "metadata": {
        "colab": {
          "base_uri": "https://localhost:8080/"
        },
        "id": "w9aLxeUgdp-1",
        "outputId": "74b9a5ac-b898-437d-818a-08b060d85ee6"
      },
      "execution_count": 6,
      "outputs": [
        {
          "output_type": "execute_result",
          "data": {
            "text/plain": [
              "array(['setosa', 'versicolor', 'virginica'], dtype='<U10')"
            ]
          },
          "metadata": {},
          "execution_count": 6
        }
      ]
    },
    {
      "cell_type": "code",
      "source": [
        "iris.target[0]"
      ],
      "metadata": {
        "colab": {
          "base_uri": "https://localhost:8080/"
        },
        "id": "eCKFOzKZdzNj",
        "outputId": "701d8335-e06d-424c-96c7-6e9a45535968"
      },
      "execution_count": 7,
      "outputs": [
        {
          "output_type": "execute_result",
          "data": {
            "text/plain": [
              "0"
            ]
          },
          "metadata": {},
          "execution_count": 7
        }
      ]
    },
    {
      "cell_type": "code",
      "source": [
        "iris.data[0]"
      ],
      "metadata": {
        "colab": {
          "base_uri": "https://localhost:8080/"
        },
        "id": "9a7hDdwlfeWl",
        "outputId": "25e82a59-529b-42f9-db5e-d5de7f3c90d4"
      },
      "execution_count": 8,
      "outputs": [
        {
          "output_type": "execute_result",
          "data": {
            "text/plain": [
              "array([5.1, 3.5, 1.4, 0.2])"
            ]
          },
          "metadata": {},
          "execution_count": 8
        }
      ]
    },
    {
      "cell_type": "code",
      "source": [
        "from sklearn.model_selection import train_test_split"
      ],
      "metadata": {
        "id": "ml7YhOFlfmAx"
      },
      "execution_count": 9,
      "outputs": []
    },
    {
      "cell_type": "code",
      "source": [
        "x_train,x_test,y_train,y_test=train_test_split(iris.data,iris.target,test_size=0.1)\n",
        "x_train[0].shape"
      ],
      "metadata": {
        "colab": {
          "base_uri": "https://localhost:8080/"
        },
        "id": "DSe6ZAK-fxWm",
        "outputId": "d7fb5eca-c220-4868-90d0-9c9a6df58528"
      },
      "execution_count": 10,
      "outputs": [
        {
          "output_type": "execute_result",
          "data": {
            "text/plain": [
              "(4,)"
            ]
          },
          "metadata": {},
          "execution_count": 10
        }
      ]
    },
    {
      "cell_type": "code",
      "source": [
        "x_train=x_train/7\n",
        "x_test=x_test/7\n",
        "x_train"
      ],
      "metadata": {
        "colab": {
          "base_uri": "https://localhost:8080/"
        },
        "id": "qlhugEf8lIcR",
        "outputId": "7fe08ef0-8cfc-47f3-ca35-137cdc0811e8"
      },
      "execution_count": 11,
      "outputs": [
        {
          "output_type": "execute_result",
          "data": {
            "text/plain": [
              "array([[0.71428571, 0.51428571, 0.2       , 0.02857143],\n",
              "       [0.71428571, 0.5       , 0.18571429, 0.04285714],\n",
              "       [0.98571429, 0.44285714, 0.72857143, 0.32857143],\n",
              "       [0.91428571, 0.45714286, 0.64285714, 0.21428571],\n",
              "       [0.97142857, 0.45714286, 0.84285714, 0.32857143],\n",
              "       [0.88571429, 0.4       , 0.68571429, 0.25714286],\n",
              "       [0.9       , 0.32857143, 0.62857143, 0.18571429],\n",
              "       [0.98571429, 0.45714286, 0.81428571, 0.32857143],\n",
              "       [0.8       , 0.42857143, 0.64285714, 0.21428571],\n",
              "       [1.01428571, 0.42857143, 0.84285714, 0.3       ],\n",
              "       [0.82857143, 0.38571429, 0.72857143, 0.27142857],\n",
              "       [1.02857143, 0.45714286, 0.85714286, 0.25714286],\n",
              "       [0.72857143, 0.52857143, 0.21428571, 0.05714286],\n",
              "       [0.78571429, 0.6       , 0.2       , 0.02857143],\n",
              "       [0.75714286, 0.52857143, 0.21428571, 0.02857143],\n",
              "       [1.02857143, 0.42857143, 0.82857143, 0.22857143],\n",
              "       [0.91428571, 0.4       , 0.8       , 0.31428571],\n",
              "       [0.72857143, 0.54285714, 0.27142857, 0.05714286],\n",
              "       [0.91428571, 0.41428571, 0.61428571, 0.18571429],\n",
              "       [0.67142857, 0.45714286, 0.22857143, 0.02857143],\n",
              "       [0.92857143, 0.4       , 0.65714286, 0.21428571],\n",
              "       [0.71428571, 0.47142857, 0.2       , 0.02857143],\n",
              "       [0.87142857, 0.37142857, 0.8       , 0.2       ],\n",
              "       [1.04285714, 0.41428571, 0.9       , 0.25714286],\n",
              "       [0.95714286, 0.42857143, 0.71428571, 0.24285714],\n",
              "       [0.84285714, 0.45714286, 0.68571429, 0.25714286],\n",
              "       [0.72857143, 0.54285714, 0.21428571, 0.04285714],\n",
              "       [0.7       , 0.35714286, 0.64285714, 0.24285714],\n",
              "       [0.68571429, 0.44285714, 0.22857143, 0.02857143],\n",
              "       [0.72857143, 0.35714286, 0.42857143, 0.15714286],\n",
              "       [0.92857143, 0.42857143, 0.78571429, 0.25714286],\n",
              "       [0.78571429, 0.32857143, 0.57142857, 0.18571429],\n",
              "       [0.95714286, 0.44285714, 0.62857143, 0.2       ],\n",
              "       [0.81428571, 0.4       , 0.64285714, 0.18571429],\n",
              "       [0.92857143, 0.45714286, 0.72857143, 0.28571429],\n",
              "       [0.74285714, 0.58571429, 0.21428571, 0.01428571],\n",
              "       [1.1       , 0.42857143, 0.87142857, 0.32857143],\n",
              "       [0.91428571, 0.44285714, 0.78571429, 0.25714286],\n",
              "       [0.95714286, 0.44285714, 0.8       , 0.34285714],\n",
              "       [0.85714286, 0.48571429, 0.64285714, 0.22857143],\n",
              "       [0.82857143, 0.38571429, 0.55714286, 0.17142857],\n",
              "       [1.08571429, 0.42857143, 0.94285714, 0.3       ],\n",
              "       [0.71428571, 0.42857143, 0.22857143, 0.02857143],\n",
              "       [0.82857143, 0.38571429, 0.72857143, 0.27142857],\n",
              "       [0.87142857, 0.4       , 0.57142857, 0.18571429],\n",
              "       [0.74285714, 0.48571429, 0.2       , 0.02857143],\n",
              "       [0.77142857, 0.48571429, 0.21428571, 0.05714286],\n",
              "       [0.87142857, 0.42857143, 0.65714286, 0.2       ],\n",
              "       [0.65714286, 0.44285714, 0.21428571, 0.02857143],\n",
              "       [0.81428571, 0.4       , 0.58571429, 0.18571429],\n",
              "       [0.62857143, 0.42857143, 0.18571429, 0.02857143],\n",
              "       [0.7       , 0.51428571, 0.2       , 0.01428571],\n",
              "       [0.91428571, 0.38571429, 0.75714286, 0.27142857],\n",
              "       [0.61428571, 0.42857143, 0.15714286, 0.01428571],\n",
              "       [0.71428571, 0.48571429, 0.21428571, 0.02857143],\n",
              "       [1.1       , 0.54285714, 0.95714286, 0.31428571],\n",
              "       [0.91428571, 0.45714286, 0.75714286, 0.32857143],\n",
              "       [0.72857143, 0.54285714, 0.22857143, 0.02857143],\n",
              "       [0.9       , 0.38571429, 0.7       , 0.25714286],\n",
              "       [0.9       , 0.41428571, 0.8       , 0.25714286],\n",
              "       [0.95714286, 0.35714286, 0.82857143, 0.25714286],\n",
              "       [0.85714286, 0.38571429, 0.72857143, 0.22857143],\n",
              "       [0.78571429, 0.5       , 0.18571429, 0.02857143],\n",
              "       [0.77142857, 0.55714286, 0.24285714, 0.05714286],\n",
              "       [0.85714286, 0.42857143, 0.68571429, 0.25714286],\n",
              "       [0.81428571, 0.41428571, 0.6       , 0.18571429],\n",
              "       [0.9       , 0.47142857, 0.85714286, 0.35714286],\n",
              "       [1.05714286, 0.4       , 0.87142857, 0.27142857],\n",
              "       [0.85714286, 0.31428571, 0.57142857, 0.14285714],\n",
              "       [0.81428571, 0.42857143, 0.6       , 0.17142857],\n",
              "       [0.82857143, 0.37142857, 0.57142857, 0.17142857],\n",
              "       [0.68571429, 0.42857143, 0.2       , 0.04285714],\n",
              "       [0.9       , 0.48571429, 0.8       , 0.34285714],\n",
              "       [0.87142857, 0.4       , 0.67142857, 0.17142857],\n",
              "       [0.72857143, 0.5       , 0.2       , 0.04285714],\n",
              "       [0.81428571, 0.62857143, 0.21428571, 0.05714286],\n",
              "       [0.84285714, 0.42857143, 0.72857143, 0.25714286],\n",
              "       [0.82857143, 0.57142857, 0.17142857, 0.02857143],\n",
              "       [0.92857143, 0.42857143, 0.74285714, 0.28571429],\n",
              "       [0.81428571, 0.35714286, 0.71428571, 0.28571429],\n",
              "       [0.9       , 0.47142857, 0.67142857, 0.22857143],\n",
              "       [0.88571429, 0.41428571, 0.61428571, 0.18571429],\n",
              "       [0.78571429, 0.34285714, 0.54285714, 0.15714286],\n",
              "       [0.62857143, 0.45714286, 0.18571429, 0.02857143],\n",
              "       [0.95714286, 0.47142857, 0.81428571, 0.35714286],\n",
              "       [0.92857143, 0.42857143, 0.82857143, 0.31428571],\n",
              "       [0.71428571, 0.45714286, 0.17142857, 0.02857143],\n",
              "       [0.77142857, 0.48571429, 0.24285714, 0.02857143],\n",
              "       [0.67142857, 0.45714286, 0.18571429, 0.02857143],\n",
              "       [0.72857143, 0.5       , 0.2       , 0.02857143],\n",
              "       [0.77142857, 0.42857143, 0.64285714, 0.21428571],\n",
              "       [0.95714286, 0.47142857, 0.81428571, 0.3       ],\n",
              "       [0.94285714, 0.42857143, 0.62857143, 0.2       ],\n",
              "       [0.71428571, 0.32857143, 0.47142857, 0.14285714],\n",
              "       [0.78571429, 0.34285714, 0.52857143, 0.14285714],\n",
              "       [0.84285714, 0.42857143, 0.6       , 0.21428571],\n",
              "       [0.77142857, 0.55714286, 0.18571429, 0.05714286],\n",
              "       [0.81428571, 0.37142857, 0.5       , 0.14285714],\n",
              "       [0.77142857, 0.52857143, 0.21428571, 0.02857143],\n",
              "       [1.        , 0.45714286, 0.67142857, 0.2       ],\n",
              "       [0.9       , 0.4       , 0.72857143, 0.21428571],\n",
              "       [0.87142857, 0.41428571, 0.67142857, 0.2       ],\n",
              "       [0.65714286, 0.45714286, 0.2       , 0.02857143],\n",
              "       [0.7       , 0.42857143, 0.2       , 0.02857143],\n",
              "       [0.72857143, 0.47142857, 0.24285714, 0.07142857],\n",
              "       [0.65714286, 0.51428571, 0.14285714, 0.02857143],\n",
              "       [0.8       , 0.41428571, 0.51428571, 0.18571429],\n",
              "       [0.62857143, 0.41428571, 0.2       , 0.02857143],\n",
              "       [0.71428571, 0.5       , 0.22857143, 0.08571429],\n",
              "       [0.95714286, 0.42857143, 0.74285714, 0.32857143],\n",
              "       [1.1       , 0.37142857, 0.98571429, 0.32857143],\n",
              "       [0.68571429, 0.48571429, 0.27142857, 0.02857143],\n",
              "       [0.8       , 0.35714286, 0.55714286, 0.15714286],\n",
              "       [0.7       , 0.34285714, 0.47142857, 0.14285714],\n",
              "       [0.8       , 0.4       , 0.7       , 0.28571429],\n",
              "       [0.74285714, 0.5       , 0.21428571, 0.02857143],\n",
              "       [0.68571429, 0.42857143, 0.2       , 0.01428571],\n",
              "       [0.94285714, 0.41428571, 0.65714286, 0.18571429],\n",
              "       [0.78571429, 0.35714286, 0.57142857, 0.18571429],\n",
              "       [0.95714286, 0.44285714, 0.67142857, 0.21428571],\n",
              "       [0.71428571, 0.48571429, 0.22857143, 0.05714286],\n",
              "       [0.98571429, 0.44285714, 0.77142857, 0.3       ],\n",
              "       [0.8       , 0.38571429, 0.6       , 0.18571429],\n",
              "       [0.98571429, 0.44285714, 0.7       , 0.21428571],\n",
              "       [0.88571429, 0.48571429, 0.77142857, 0.32857143],\n",
              "       [0.85714286, 0.31428571, 0.71428571, 0.21428571],\n",
              "       [0.7       , 0.44285714, 0.21428571, 0.02857143],\n",
              "       [0.82857143, 0.4       , 0.72857143, 0.34285714],\n",
              "       [0.97142857, 0.4       , 0.68571429, 0.2       ],\n",
              "       [1.02857143, 0.51428571, 0.87142857, 0.35714286],\n",
              "       [0.68571429, 0.48571429, 0.22857143, 0.02857143],\n",
              "       [0.65714286, 0.48571429, 0.2       , 0.04285714],\n",
              "       [0.7       , 0.44285714, 0.21428571, 0.01428571],\n",
              "       [0.88571429, 0.31428571, 0.64285714, 0.21428571],\n",
              "       [0.74285714, 0.38571429, 0.55714286, 0.2       ]])"
            ]
          },
          "metadata": {},
          "execution_count": 11
        }
      ]
    },
    {
      "cell_type": "code",
      "source": [
        "\n",
        "model=linear_model.LogisticRegression()\n",
        "model.fit(x_train,y_train)"
      ],
      "metadata": {
        "colab": {
          "base_uri": "https://localhost:8080/",
          "height": 74
        },
        "id": "YH2IEA7vf8MI",
        "outputId": "b1d510e2-8e90-48ab-c792-e97d33269663"
      },
      "execution_count": 12,
      "outputs": [
        {
          "output_type": "execute_result",
          "data": {
            "text/plain": [
              "LogisticRegression()"
            ],
            "text/html": [
              "<style>#sk-container-id-1 {color: black;background-color: white;}#sk-container-id-1 pre{padding: 0;}#sk-container-id-1 div.sk-toggleable {background-color: white;}#sk-container-id-1 label.sk-toggleable__label {cursor: pointer;display: block;width: 100%;margin-bottom: 0;padding: 0.3em;box-sizing: border-box;text-align: center;}#sk-container-id-1 label.sk-toggleable__label-arrow:before {content: \"▸\";float: left;margin-right: 0.25em;color: #696969;}#sk-container-id-1 label.sk-toggleable__label-arrow:hover:before {color: black;}#sk-container-id-1 div.sk-estimator:hover label.sk-toggleable__label-arrow:before {color: black;}#sk-container-id-1 div.sk-toggleable__content {max-height: 0;max-width: 0;overflow: hidden;text-align: left;background-color: #f0f8ff;}#sk-container-id-1 div.sk-toggleable__content pre {margin: 0.2em;color: black;border-radius: 0.25em;background-color: #f0f8ff;}#sk-container-id-1 input.sk-toggleable__control:checked~div.sk-toggleable__content {max-height: 200px;max-width: 100%;overflow: auto;}#sk-container-id-1 input.sk-toggleable__control:checked~label.sk-toggleable__label-arrow:before {content: \"▾\";}#sk-container-id-1 div.sk-estimator input.sk-toggleable__control:checked~label.sk-toggleable__label {background-color: #d4ebff;}#sk-container-id-1 div.sk-label input.sk-toggleable__control:checked~label.sk-toggleable__label {background-color: #d4ebff;}#sk-container-id-1 input.sk-hidden--visually {border: 0;clip: rect(1px 1px 1px 1px);clip: rect(1px, 1px, 1px, 1px);height: 1px;margin: -1px;overflow: hidden;padding: 0;position: absolute;width: 1px;}#sk-container-id-1 div.sk-estimator {font-family: monospace;background-color: #f0f8ff;border: 1px dotted black;border-radius: 0.25em;box-sizing: border-box;margin-bottom: 0.5em;}#sk-container-id-1 div.sk-estimator:hover {background-color: #d4ebff;}#sk-container-id-1 div.sk-parallel-item::after {content: \"\";width: 100%;border-bottom: 1px solid gray;flex-grow: 1;}#sk-container-id-1 div.sk-label:hover label.sk-toggleable__label {background-color: #d4ebff;}#sk-container-id-1 div.sk-serial::before {content: \"\";position: absolute;border-left: 1px solid gray;box-sizing: border-box;top: 0;bottom: 0;left: 50%;z-index: 0;}#sk-container-id-1 div.sk-serial {display: flex;flex-direction: column;align-items: center;background-color: white;padding-right: 0.2em;padding-left: 0.2em;position: relative;}#sk-container-id-1 div.sk-item {position: relative;z-index: 1;}#sk-container-id-1 div.sk-parallel {display: flex;align-items: stretch;justify-content: center;background-color: white;position: relative;}#sk-container-id-1 div.sk-item::before, #sk-container-id-1 div.sk-parallel-item::before {content: \"\";position: absolute;border-left: 1px solid gray;box-sizing: border-box;top: 0;bottom: 0;left: 50%;z-index: -1;}#sk-container-id-1 div.sk-parallel-item {display: flex;flex-direction: column;z-index: 1;position: relative;background-color: white;}#sk-container-id-1 div.sk-parallel-item:first-child::after {align-self: flex-end;width: 50%;}#sk-container-id-1 div.sk-parallel-item:last-child::after {align-self: flex-start;width: 50%;}#sk-container-id-1 div.sk-parallel-item:only-child::after {width: 0;}#sk-container-id-1 div.sk-dashed-wrapped {border: 1px dashed gray;margin: 0 0.4em 0.5em 0.4em;box-sizing: border-box;padding-bottom: 0.4em;background-color: white;}#sk-container-id-1 div.sk-label label {font-family: monospace;font-weight: bold;display: inline-block;line-height: 1.2em;}#sk-container-id-1 div.sk-label-container {text-align: center;}#sk-container-id-1 div.sk-container {/* jupyter's `normalize.less` sets `[hidden] { display: none; }` but bootstrap.min.css set `[hidden] { display: none !important; }` so we also need the `!important` here to be able to override the default hidden behavior on the sphinx rendered scikit-learn.org. See: https://github.com/scikit-learn/scikit-learn/issues/21755 */display: inline-block !important;position: relative;}#sk-container-id-1 div.sk-text-repr-fallback {display: none;}</style><div id=\"sk-container-id-1\" class=\"sk-top-container\"><div class=\"sk-text-repr-fallback\"><pre>LogisticRegression()</pre><b>In a Jupyter environment, please rerun this cell to show the HTML representation or trust the notebook. <br />On GitHub, the HTML representation is unable to render, please try loading this page with nbviewer.org.</b></div><div class=\"sk-container\" hidden><div class=\"sk-item\"><div class=\"sk-estimator sk-toggleable\"><input class=\"sk-toggleable__control sk-hidden--visually\" id=\"sk-estimator-id-1\" type=\"checkbox\" checked><label for=\"sk-estimator-id-1\" class=\"sk-toggleable__label sk-toggleable__label-arrow\">LogisticRegression</label><div class=\"sk-toggleable__content\"><pre>LogisticRegression()</pre></div></div></div></div></div>"
            ]
          },
          "metadata": {},
          "execution_count": 12
        }
      ]
    },
    {
      "cell_type": "code",
      "source": [
        "model.score(x_test,y_test)"
      ],
      "metadata": {
        "colab": {
          "base_uri": "https://localhost:8080/"
        },
        "id": "SBIBUXQwgEbA",
        "outputId": "ab5eeb1b-ad31-40c5-a2ef-5b7fadb51096"
      },
      "execution_count": 13,
      "outputs": [
        {
          "output_type": "execute_result",
          "data": {
            "text/plain": [
              "0.9333333333333333"
            ]
          },
          "metadata": {},
          "execution_count": 13
        }
      ]
    },
    {
      "cell_type": "code",
      "source": [
        "from sklearn.metrics import confusion_matrix"
      ],
      "metadata": {
        "id": "oVoivyn8gd4y"
      },
      "execution_count": 14,
      "outputs": []
    },
    {
      "cell_type": "code",
      "source": [
        "y_p=model.predict(x_test)\n",
        "cm=confusion_matrix(y_test,y_p)"
      ],
      "metadata": {
        "id": "ctbazIDAgrJD"
      },
      "execution_count": 15,
      "outputs": []
    },
    {
      "cell_type": "code",
      "source": [
        "import seaborn as s\n",
        "pl.figure(figsize=(10,7))\n",
        "s.heatmap(cm,annot=True,linewidths=1)"
      ],
      "metadata": {
        "colab": {
          "base_uri": "https://localhost:8080/",
          "height": 450
        },
        "id": "ZKX1SkThg3dV",
        "outputId": "5a4d93e6-b2fe-4b4e-a996-46f399e04c2e"
      },
      "execution_count": 16,
      "outputs": [
        {
          "output_type": "execute_result",
          "data": {
            "text/plain": [
              "<AxesSubplot:>"
            ]
          },
          "metadata": {},
          "execution_count": 16
        },
        {
          "output_type": "display_data",
          "data": {
            "text/plain": [
              "<Figure size 720x504 with 2 Axes>"
            ],
            "image/png": "[encoded data removed]"
          },
          "metadata": {
            "needs_background": "light"
          }
        }
      ]
    },
    {
      "cell_type": "code",
      "source": [
        "from tensorflow import keras\n"
      ],
      "metadata": {
        "id": "5CJhlJYxhBvq"
      },
      "execution_count": 17,
      "outputs": []
    },
    {
      "cell_type": "code",
      "source": [
        "model=keras.Sequential([keras.layers.Dense(10000,input_shape=(4,),activation='relu'),\n",
        "                       keras.layers.Dense(1000,input_shape=(4,),activation='relu'),\n",
        "                       keras.layers.Dense(100,input_shape=(4,),activation='relu'),\n",
        "                       keras.layers.Dense(10,input_shape=(4,),activation='sigmoid')])"
      ],
      "metadata": {
        "id": "8pTGL52Wh-9R"
      },
      "execution_count": 18,
      "outputs": []
    },
    {
      "cell_type": "code",
      "source": [
        "\n",
        "model.compile(\n",
        "    optimizer='adam',\n",
        "    loss='sparse_categorical_crossentropy',\n",
        "    metrics=['accuracy']\n",
        ")"
      ],
      "metadata": {
        "id": "9FWYlg8Uirtj"
      },
      "execution_count": 19,
      "outputs": []
    },
    {
      "cell_type": "code",
      "source": [
        "model.fit(x_train,y_train,epochs=10)"
      ],
      "metadata": {
        "colab": {
          "base_uri": "https://localhost:8080/"
        },
        "id": "YZylNML3j40B",
        "outputId": "da1d107b-290c-42fe-ae71-007eca138683"
      },
      "execution_count": 20,
      "outputs": [
        {
          "output_type": "stream",
          "name": "stdout",
          "text": [
            "Epoch 1/10\n",
            "5/5 [==============================] - 2s 198ms/step - loss: 1.9934 - accuracy: 0.2148\n",
            "Epoch 2/10\n",
            "5/5 [==============================] - 1s 194ms/step - loss: 0.9748 - accuracy: 0.6296\n",
            "Epoch 3/10\n",
            "5/5 [==============================] - 1s 194ms/step - loss: 0.6136 - accuracy: 0.7407\n",
            "Epoch 4/10\n",
            "5/5 [==============================] - 1s 197ms/step - loss: 0.5135 - accuracy: 0.6815\n",
            "Epoch 5/10\n",
            "5/5 [==============================] - 1s 196ms/step - loss: 0.3967 - accuracy: 0.7556\n",
            "Epoch 6/10\n",
            "5/5 [==============================] - 1s 193ms/step - loss: 0.3350 - accuracy: 0.8000\n",
            "Epoch 7/10\n",
            "5/5 [==============================] - 1s 195ms/step - loss: 0.4188 - accuracy: 0.7926\n",
            "Epoch 8/10\n",
            "5/5 [==============================] - 1s 195ms/step - loss: 0.3981 - accuracy: 0.7630\n",
            "Epoch 9/10\n",
            "5/5 [==============================] - 1s 220ms/step - loss: 0.2543 - accuracy: 0.8741\n",
            "Epoch 10/10\n",
            "5/5 [==============================] - 2s 324ms/step - loss: 0.1929 - accuracy: 0.9556\n"
          ]
        },
        {
          "output_type": "execute_result",
          "data": {
            "text/plain": [
              "<keras.callbacks.History at 0x7fad10129b80>"
            ]
          },
          "metadata": {},
          "execution_count": 20
        }
      ]
    },
    {
      "cell_type": "code",
      "source": [],
      "metadata": {
        "id": "aHVxa6g3kQX7"
      },
      "execution_count": 20,
      "outputs": []
    }
  ]
}