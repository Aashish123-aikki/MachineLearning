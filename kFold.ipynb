{
  "nbformat": 4,
  "nbformat_minor": 0,
  "metadata": {
    "colab": {
      "provenance": [],
      "authorship_tag": "ABX9TyNWHs12aY5gVG2axLFTgwOG",
      "include_colab_link": true
    },
    "kernelspec": {
      "name": "python3",
      "display_name": "Python 3"
    },
    "language_info": {
      "name": "python"
    }
  },
  "cells": [
    {
      "cell_type": "markdown",
      "metadata": {
        "id": "view-in-github",
        "colab_type": "text"
      },
      "source": [
        "<a href=\"https://colab.research.google.com/github/Aashish123-aikki/MachineLearning/blob/main/kFold.ipynb\" target=\"_parent\"><img src=\"https://colab.research.google.com/assets/colab-badge.svg\" alt=\"Open In Colab\"/></a>"
      ]
    },
    {
      "cell_type": "code",
      "execution_count": 20,
      "metadata": {
        "id": "I6CbMPD_qAaO"
      },
      "outputs": [],
      "source": [
        "from sklearn.ensemble import RandomForestClassifier\n",
        "from sklearn.model_selection import cross_val_score\n",
        "from sklearn.linear_model import LinearRegression\n",
        "from sklearn.svm import SVC\n",
        "from sklearn.datasets import load_digits"
      ]
    },
    {
      "cell_type": "code",
      "source": [
        "digit=load_digits()"
      ],
      "metadata": {
        "id": "QhRDrLOWrLzh"
      },
      "execution_count": 21,
      "outputs": []
    },
    {
      "cell_type": "code",
      "source": [
        "cross_val_score(RandomForestClassifier(n_estimators=40),digit.data,digit.target)"
      ],
      "metadata": {
        "colab": {
          "base_uri": "https://localhost:8080/"
        },
        "id": "QN-kCAainuq7",
        "outputId": "9e3ddeef-00e6-4f03-d3ab-19aa5c3310e2"
      },
      "execution_count": 22,
      "outputs": [
        {
          "output_type": "execute_result",
          "data": {
            "text/plain": [
              "array([0.93888889, 0.89444444, 0.95264624, 0.96657382, 0.92479109])"
            ]
          },
          "metadata": {},
          "execution_count": 22
        }
      ]
    },
    {
      "cell_type": "code",
      "source": [
        "from sklearn.model_selection import KFold"
      ],
      "metadata": {
        "id": "fd4qf0zGocpN"
      },
      "execution_count": 23,
      "outputs": []
    },
    {
      "cell_type": "code",
      "source": [
        "kf=KFold(n_splits=3)\n"
      ],
      "metadata": {
        "id": "Cs3Dbor8o9FE"
      },
      "execution_count": 24,
      "outputs": []
    },
    {
      "cell_type": "code",
      "source": [
        "def getscore(model,x_train,x_test,y_train,y_test):\n",
        "  model.fit(x_train,y_train)\n",
        "  return model.score(x_test,y_test)"
      ],
      "metadata": {
        "id": "drmeIYNDscd4"
      },
      "execution_count": 25,
      "outputs": []
    },
    {
      "cell_type": "code",
      "source": [
        "lg_list=[]\n",
        "rfc_list=[]\n",
        "svm_list=[]\n",
        "\n",
        "for  train_index,test_index in kf.split(digit.data,digit.target):\n",
        "  x_train,x_test,y_train,y_test=digit.data[train_index], digit.data[test_index], \\\n",
        "                                digit.target[train_index],digit.target[test_index]\n",
        "  lg_list.append(getscore(LinearRegression(),x_train,x_test,y_train,y_test))\n",
        "  rfc_list.append(getscore(RandomForestClassifier(n_estimators=40),x_train,x_test,y_train,y_test))\n",
        "  svm_list.append(getscore(SVC(),x_train,x_test,y_train,y_test))\n",
        "\n"
      ],
      "metadata": {
        "id": "u2_6BK1qrtR-"
      },
      "execution_count": 30,
      "outputs": []
    },
    {
      "cell_type": "code",
      "source": [
        "print(lg_list)\n",
        "print(rfc_list)\n",
        "print(svm_list)"
      ],
      "metadata": {
        "colab": {
          "base_uri": "https://localhost:8080/"
        },
        "id": "_FcjtWmDsW65",
        "outputId": "a15f2718-91e8-4b1e-c894-8f8c36f45b2e"
      },
      "execution_count": 31,
      "outputs": [
        {
          "output_type": "stream",
          "name": "stdout",
          "text": [
            "[0.5210503111571496, 0.5681424219493625, 0.4194398505968844]\n",
            "[0.9298831385642737, 0.9499165275459098, 0.9248747913188647]\n",
            "[0.9666110183639399, 0.9816360601001669, 0.9549248747913188]\n"
          ]
        }
      ]
    },
    {
      "cell_type": "code",
      "source": [],
      "metadata": {
        "id": "ZrYN-7pHuDoq"
      },
      "execution_count": 27,
      "outputs": []
    }
  ]
}